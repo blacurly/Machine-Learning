{
 "cells": [
  {
   "cell_type": "code",
   "execution_count": 2,
   "id": "6f368c00-7cd9-4019-95b9-d9d84b918c86",
   "metadata": {},
   "outputs": [],
   "source": [
    "import matplotlib.pyplot as plt\n",
    "import numpy\n",
    "import pandas\n",
    "import sys\n",
    "import time\n",
    "import itertools\n",
    "import subprocess\n",
    "\n",
    "from cpuinfo import get_cpu_info\n",
    "from matplotlib.ticker import MultipleLocator\n",
    "from scipy.stats import chi2\n",
    "from itertools import product\n",
    "from sklearn import preprocessing, naive_bayes\n",
    "from sklearn.naive_bayes import CategoricalNB\n",
    "from sklearn.preprocessing import OrdinalEncoder\n",
    "from sklearn.metrics import accuracy_score\n",
    "\n",
    "sys.path.append('C:\\\\ADSP\\\\ADSP31017\\\\Code')\n",
    "import LogisticRegression\n",
    "import ModelAssessment\n",
    "\n",
    "# Set some options for printing all the columns\n",
    "numpy.set_printoptions(precision = 10, threshold = sys.maxsize)\n",
    "numpy.set_printoptions(linewidth = numpy.inf)\n",
    "\n",
    "pandas.set_option('display.max_columns', None)\n",
    "pandas.set_option('display.expand_frame_repr', False)\n",
    "pandas.set_option('max_colwidth', None)\n",
    "\n",
    "pandas.options.display.float_format = '{:,.7f}'.format"
   ]
  },
  {
   "cell_type": "code",
   "execution_count": 3,
   "id": "e1beb341-3c0c-4f38-b629-93147b95ab2b",
   "metadata": {},
   "outputs": [],
   "source": [
    "whas500 = pandas.read_csv(\"/Users/olivia/Downloads/ML - Assignment 1/whas500_final.csv\")\n",
    "\n",
    "# Convert dates\n",
    "whas500[['admitdate', 'disdate', 'fdate']] = whas500[['admitdate', 'disdate', 'fdate']].apply(pandas.to_datetime, dayfirst=True)\n",
    "\n",
    "# Map the lenfol\n",
    "bins = [-float(\"inf\"), 30, 180, 540, float(\"inf\")]\n",
    "labels = [\"≤30 days\", \"31-180 days\", \"181-540 days\", \">540 days\"]\n",
    "whas500[\"lenfol_category\"] = pandas.cut(whas500[\"lenfol\"], bins=bins, labels=labels, right=True)\n",
    "\n",
    "# Define categorical and continuous predictors\n",
    "cat_pred = ['afb', 'av3', 'chf', 'cvd', 'gender', 'miord', 'mitype', 'sho']\n",
    "int_pred = ['age', 'bmi', 'diasbp', 'hr', 'sysbp']\n",
    "\n",
    "# Binning continuous predictors\n",
    "bin_edges = {\n",
    "    'age': [67.5, 72.5, 85.5],\n",
    "    'bmi': [23.2982, 24.2238, 28.5612],\n",
    "    'diasbp': [60.5, 76.5, 97.5],\n",
    "    'hr': [67.5, 83.5, 102.5],\n",
    "    'sysbp': [106.5, 136.5, 185.0]\n",
    "}\n",
    "\n",
    "for var, edges in bin_edges.items():\n",
    "    whas500[var + '_bin'] = pandas.cut(whas500[var], bins=[-float(\"inf\")] + edges + [float(\"inf\")], labels=[0, 1, 2, 3])\n"
   ]
  },
  {
   "cell_type": "code",
   "execution_count": 4,
   "id": "c93301bc-6aef-43f8-8a74-7d99870cfab0",
   "metadata": {},
   "outputs": [],
   "source": [
    "# Define features and target\n",
    "feature = cat_pred + [var + '_bin' for var in int_pred]\n",
    "target = 'lenfol_category'\n",
    "\n",
    "# Prepare dataset\n",
    "train_data = whas500[feature + [target]].dropna().reset_index(drop=True)\n",
    "\n",
    "# Retrieve the target's categories\n",
    "count_target = train_data[target].value_counts().sort_index()\n",
    "category_target = list(count_target.index)\n",
    "\n",
    "# Encode categorical features\n",
    "category_features = [train_data[f].astype('category').cat.categories.tolist() for f in feature]\n",
    "feature_encoder = OrdinalEncoder(categories=category_features)\n",
    "X_train = feature_encoder.fit_transform(train_data[feature])\n",
    "y_train = train_data[target].astype('category')\n",
    "\n",
    "# Generate all feature subsets\n",
    "num_features = len(feature)\n",
    "all_subsets = list(itertools.chain.from_iterable(itertools.combinations(feature, r) for r in range(1, num_features + 1)))\n",
    "\n",
    "# Train Naïve Bayes models for all subsets\n",
    "model_results = []\n",
    "start_time = time.time()\n",
    "\n",
    "for subset in all_subsets:\n",
    "    subset_features = list(subset)\n",
    "    subset_encoder = OrdinalEncoder(categories=[category_features[feature.index(f)] for f in subset_features])\n",
    "    X_subset = subset_encoder.fit_transform(train_data[subset_features])\n",
    "    \n",
    "    model = CategoricalNB(alpha=0)\n",
    "    model.fit(X_subset, y_train)\n",
    "    \n",
    "    y_pred_prob = model.predict_proba(X_subset)\n",
    "    y_pred = model.predict(X_subset)\n",
    "\n",
    "    # Compute metrics using ModelAssessment functions\n",
    "    y_train_str = y_train.astype(str)  # Convert y_train to string to match expected input\n",
    "    pred_prob_df = pandas.DataFrame(y_pred_prob, columns=['P_' + str(c) for c in y_train_str.unique()])\n",
    "    metrics = ModelAssessment.nominal_model_metric(y_train_str, pred_prob_df)\n",
    "    \n",
    "    # Compute metrics using ModelAssessment functions\n",
    "    xtab = pandas.crosstab(pandas.Series(y_pred_prob.argmax(axis=1)), y_train)\n",
    "    #metrics = ModelAssessment.nominal_model_metric(y_train, pandas.DataFrame(y_pred_prob, columns=['P_' + str(c) for c in y_train.cat.categories]))\n",
    "    \n",
    "    model_results.append({\n",
    "        'num_features': len(subset_features),\n",
    "        'features': subset_features,\n",
    "        'accuracy': 1 - metrics['MCE'],\n",
    "        'RASE': metrics['RASE'],\n",
    "        'AUC': metrics['AUC']\n",
    "    })\n",
    "\n",
    "# Execution time\n",
    "end_time = time.time()\n",
    "total_time = end_time - start_time"
   ]
  },
  {
   "cell_type": "code",
   "execution_count": 5,
   "id": "006d9e60-d226-498e-9efb-dfc8d208b412",
   "metadata": {},
   "outputs": [
    {
     "name": "stdout",
     "output_type": "stream",
     "text": [
      "Total model trained is 8191\n",
      "      num_features                                                                                           features  accuracy      RASE       AUC\n",
      "0                1                                                                                              [afb] 0.1140000 0.4823868 0.4825450\n",
      "1                1                                                                                              [av3] 0.1140000 0.4820938 0.4959364\n",
      "2                1                                                                                              [chf] 0.1140000 0.4887263 0.4984022\n",
      "3                1                                                                                              [cvd] 0.1140000 0.4819765 0.4964632\n",
      "4                1                                                                                           [gender] 0.1140000 0.4819232 0.4908500\n",
      "...            ...                                                                                                ...       ...       ...       ...\n",
      "8186            12       [afb, av3, chf, gender, miord, mitype, sho, age_bin, bmi_bin, diasbp_bin, hr_bin, sysbp_bin] 0.1320000 0.5328192 0.4463292\n",
      "8187            12       [afb, av3, cvd, gender, miord, mitype, sho, age_bin, bmi_bin, diasbp_bin, hr_bin, sysbp_bin] 0.1060000 0.5283889 0.4381577\n",
      "8188            12       [afb, chf, cvd, gender, miord, mitype, sho, age_bin, bmi_bin, diasbp_bin, hr_bin, sysbp_bin] 0.1280000 0.5330163 0.4453879\n",
      "8189            12       [av3, chf, cvd, gender, miord, mitype, sho, age_bin, bmi_bin, diasbp_bin, hr_bin, sysbp_bin] 0.1280000 0.5326483 0.4454991\n",
      "8190            13  [afb, av3, chf, cvd, gender, miord, mitype, sho, age_bin, bmi_bin, diasbp_bin, hr_bin, sysbp_bin] 0.1300000 0.5328973 0.4466211\n",
      "\n",
      "[8191 rows x 5 columns]\n"
     ]
    }
   ],
   "source": [
    "model_results_df = pandas.DataFrame(model_results)\n",
    "print(f\"Total model trained is {len(model_results)}\")\n",
    "print(model_results_df)"
   ]
  },
  {
   "cell_type": "code",
   "execution_count": 6,
   "id": "5fd241c0-e703-4d9f-aa55-b91a8bb588cb",
   "metadata": {},
   "outputs": [
    {
     "name": "stdout",
     "output_type": "stream",
     "text": [
      "Total Time for Trained Model: 37908.45240187645\n"
     ]
    }
   ],
   "source": [
    "print(f\"Total Time for Trained Model: {total_time}\")"
   ]
  },
  {
   "cell_type": "code",
   "execution_count": 7,
   "id": "bdfb639a-7f3d-46ef-a944-96abec692675",
   "metadata": {},
   "outputs": [
    {
     "name": "stdout",
     "output_type": "stream",
     "text": [
      "CPU Clock Speed: Apple M1 ~3.2 GHz\n"
     ]
    }
   ],
   "source": [
    "def get_cpu_speed():\n",
    "    try:\n",
    "        cpu_info = subprocess.check_output(\"sysctl -n machdep.cpu.brand_string\", shell=True).decode().strip()\n",
    "        if \"Apple M1\" in cpu_info:\n",
    "            return \"Apple M1 ~3.2 GHz\"  # Approximate known speed\n",
    "        return cpu_info\n",
    "    except Exception:\n",
    "        return \"Could not retrieve CPU speed\"\n",
    "\n",
    "cpu_speed = get_cpu_speed()\n",
    "print(f\"CPU Clock Speed: {cpu_speed}\")"
   ]
  },
  {
   "cell_type": "code",
   "execution_count": 8,
   "id": "38f311b1-b729-440d-845f-60bc843b6ffb",
   "metadata": {},
   "outputs": [
    {
     "data": {
      "text/plain": [
       "Text(0.5, 1.0, 'Accuracy vs. Number of Predictors')"
      ]
     },
     "execution_count": 8,
     "metadata": {},
     "output_type": "execute_result"
    },
    {
     "data": {
      "image/png": "[encoded data removed]",
      "text/plain": [
       "<Figure size 1200x500 with 1 Axes>"
      ]
     },
     "metadata": {},
     "output_type": "display_data"
    }
   ],
   "source": [
    "# Plot Accuracy, RASE, AUC\n",
    "plt.figure(figsize=(12, 5))\n",
    "plt.subplot(1, 3, 1)\n",
    "plt.scatter(model_results_df['num_features'], model_results_df['accuracy'])\n",
    "plt.xlabel(\"Number of Predictors\")\n",
    "plt.ylabel(\"Accuracy\")\n",
    "plt.title(\"Accuracy vs. Number of Predictors\")"
   ]
  },
  {
   "cell_type": "code",
   "execution_count": 9,
   "id": "77cbf15a-1b5a-49f2-afb0-6f5264d0bbb4",
   "metadata": {},
   "outputs": [
    {
     "data": {
      "text/html": [
       "<div>\n",
       "<style scoped>\n",
       "    .dataframe tbody tr th:only-of-type {\n",
       "        vertical-align: middle;\n",
       "    }\n",
       "\n",
       "    .dataframe tbody tr th {\n",
       "        vertical-align: top;\n",
       "    }\n",
       "\n",
       "    .dataframe thead th {\n",
       "        text-align: right;\n",
       "    }\n",
       "</style>\n",
       "<table border=\"1\" class=\"dataframe\">\n",
       "  <thead>\n",
       "    <tr style=\"text-align: right;\">\n",
       "      <th></th>\n",
       "      <th>num_features</th>\n",
       "      <th>features</th>\n",
       "      <th>accuracy</th>\n",
       "      <th>RASE</th>\n",
       "      <th>AUC</th>\n",
       "    </tr>\n",
       "  </thead>\n",
       "  <tbody>\n",
       "    <tr>\n",
       "      <th>0</th>\n",
       "      <td>1</td>\n",
       "      <td>[afb]</td>\n",
       "      <td>0.1140000</td>\n",
       "      <td>0.4823868</td>\n",
       "      <td>0.4825450</td>\n",
       "    </tr>\n",
       "    <tr>\n",
       "      <th>1</th>\n",
       "      <td>1</td>\n",
       "      <td>[av3]</td>\n",
       "      <td>0.1140000</td>\n",
       "      <td>0.4820938</td>\n",
       "      <td>0.4959364</td>\n",
       "    </tr>\n",
       "    <tr>\n",
       "      <th>2</th>\n",
       "      <td>1</td>\n",
       "      <td>[chf]</td>\n",
       "      <td>0.1140000</td>\n",
       "      <td>0.4887263</td>\n",
       "      <td>0.4984022</td>\n",
       "    </tr>\n",
       "    <tr>\n",
       "      <th>3</th>\n",
       "      <td>1</td>\n",
       "      <td>[cvd]</td>\n",
       "      <td>0.1140000</td>\n",
       "      <td>0.4819765</td>\n",
       "      <td>0.4964632</td>\n",
       "    </tr>\n",
       "    <tr>\n",
       "      <th>4</th>\n",
       "      <td>1</td>\n",
       "      <td>[gender]</td>\n",
       "      <td>0.1140000</td>\n",
       "      <td>0.4819232</td>\n",
       "      <td>0.4908500</td>\n",
       "    </tr>\n",
       "    <tr>\n",
       "      <th>...</th>\n",
       "      <td>...</td>\n",
       "      <td>...</td>\n",
       "      <td>...</td>\n",
       "      <td>...</td>\n",
       "      <td>...</td>\n",
       "    </tr>\n",
       "    <tr>\n",
       "      <th>8186</th>\n",
       "      <td>12</td>\n",
       "      <td>[afb, av3, chf, gender, miord, mitype, sho, age_bin, bmi_bin, diasbp_bin, hr_bin, sysbp_bin]</td>\n",
       "      <td>0.1320000</td>\n",
       "      <td>0.5328192</td>\n",
       "      <td>0.4463292</td>\n",
       "    </tr>\n",
       "    <tr>\n",
       "      <th>8187</th>\n",
       "      <td>12</td>\n",
       "      <td>[afb, av3, cvd, gender, miord, mitype, sho, age_bin, bmi_bin, diasbp_bin, hr_bin, sysbp_bin]</td>\n",
       "      <td>0.1060000</td>\n",
       "      <td>0.5283889</td>\n",
       "      <td>0.4381577</td>\n",
       "    </tr>\n",
       "    <tr>\n",
       "      <th>8188</th>\n",
       "      <td>12</td>\n",
       "      <td>[afb, chf, cvd, gender, miord, mitype, sho, age_bin, bmi_bin, diasbp_bin, hr_bin, sysbp_bin]</td>\n",
       "      <td>0.1280000</td>\n",
       "      <td>0.5330163</td>\n",
       "      <td>0.4453879</td>\n",
       "    </tr>\n",
       "    <tr>\n",
       "      <th>8189</th>\n",
       "      <td>12</td>\n",
       "      <td>[av3, chf, cvd, gender, miord, mitype, sho, age_bin, bmi_bin, diasbp_bin, hr_bin, sysbp_bin]</td>\n",
       "      <td>0.1280000</td>\n",
       "      <td>0.5326483</td>\n",
       "      <td>0.4454991</td>\n",
       "    </tr>\n",
       "    <tr>\n",
       "      <th>8190</th>\n",
       "      <td>13</td>\n",
       "      <td>[afb, av3, chf, cvd, gender, miord, mitype, sho, age_bin, bmi_bin, diasbp_bin, hr_bin, sysbp_bin]</td>\n",
       "      <td>0.1300000</td>\n",
       "      <td>0.5328973</td>\n",
       "      <td>0.4466211</td>\n",
       "    </tr>\n",
       "  </tbody>\n",
       "</table>\n",
       "<p>8191 rows × 5 columns</p>\n",
       "</div>"
      ],
      "text/plain": [
       "      num_features                                                                                           features  accuracy      RASE       AUC\n",
       "0                1                                                                                              [afb] 0.1140000 0.4823868 0.4825450\n",
       "1                1                                                                                              [av3] 0.1140000 0.4820938 0.4959364\n",
       "2                1                                                                                              [chf] 0.1140000 0.4887263 0.4984022\n",
       "3                1                                                                                              [cvd] 0.1140000 0.4819765 0.4964632\n",
       "4                1                                                                                           [gender] 0.1140000 0.4819232 0.4908500\n",
       "...            ...                                                                                                ...       ...       ...       ...\n",
       "8186            12       [afb, av3, chf, gender, miord, mitype, sho, age_bin, bmi_bin, diasbp_bin, hr_bin, sysbp_bin] 0.1320000 0.5328192 0.4463292\n",
       "8187            12       [afb, av3, cvd, gender, miord, mitype, sho, age_bin, bmi_bin, diasbp_bin, hr_bin, sysbp_bin] 0.1060000 0.5283889 0.4381577\n",
       "8188            12       [afb, chf, cvd, gender, miord, mitype, sho, age_bin, bmi_bin, diasbp_bin, hr_bin, sysbp_bin] 0.1280000 0.5330163 0.4453879\n",
       "8189            12       [av3, chf, cvd, gender, miord, mitype, sho, age_bin, bmi_bin, diasbp_bin, hr_bin, sysbp_bin] 0.1280000 0.5326483 0.4454991\n",
       "8190            13  [afb, av3, chf, cvd, gender, miord, mitype, sho, age_bin, bmi_bin, diasbp_bin, hr_bin, sysbp_bin] 0.1300000 0.5328973 0.4466211\n",
       "\n",
       "[8191 rows x 5 columns]"
      ]
     },
     "execution_count": 9,
     "metadata": {},
     "output_type": "execute_result"
    }
   ],
   "source": [
    "model_results_df"
   ]
  },
  {
   "cell_type": "code",
   "execution_count": null,
   "id": "d419aeae-25c3-439c-b28e-89395a622b64",
   "metadata": {},
   "outputs": [],
   "source": []
  }
 ],
 "metadata": {
  "kernelspec": {
   "display_name": "Python 3 (ipykernel)",
   "language": "python",
   "name": "python3"
  },
  "language_info": {
   "codemirror_mode": {
    "name": "ipython",
    "version": 3
   },
   "file_extension": ".py",
   "mimetype": "text/x-python",
   "name": "python",
   "nbconvert_exporter": "python",
   "pygments_lexer": "ipython3",
   "version": "3.12.3"
  }
 },
 "nbformat": 4,
 "nbformat_minor": 5
}
